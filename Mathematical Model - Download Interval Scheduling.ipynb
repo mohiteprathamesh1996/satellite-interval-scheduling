{
 "cells": [
  {
   "cell_type": "markdown",
   "id": "6c43c5a6",
   "metadata": {},
   "source": [
    "### Importing packages"
   ]
  },
  {
   "cell_type": "code",
   "execution_count": null,
   "id": "311390a2",
   "metadata": {},
   "outputs": [],
   "source": [
    "import numpy as np\n",
    "import pandas as pd\n",
    "from collections import defaultdict\n",
    "from typing import List, Dict, Tuple\n",
    "from pulp import *\n",
    "\n",
    "import warnings\n",
    "warnings.filterwarnings(\"ignore\")"
   ]
  },
  {
   "cell_type": "markdown",
   "id": "200906d5",
   "metadata": {},
   "source": [
    "### Set of input data and variables"
   ]
  },
  {
   "cell_type": "code",
   "execution_count": null,
   "id": "e1a586c8",
   "metadata": {},
   "outputs": [],
   "source": [
    "# Set of all Satellites\n",
    "S = [\"s1\", \"s2\"] \n",
    "\n",
    "# Set of all Ground Stations\n",
    "G = [\"g1\", \"g2\"]\n",
    "\n",
    "# Set of all Time Windows in 'minutes' assuming evenly spaced from TW1 to TW8\n",
    "TW = {\n",
    "    (\"s1\", \"g1\", \"s1g1\") : (1, 4),\n",
    "    (\"s1\", \"g2\", \"s1g2\") : (3, 5),\n",
    "    (\"s2\", \"g1\", \"s2g1\") : (2, 7),\n",
    "    (\"s2\", \"g2\", \"s2g2\") : (6, 8)\n",
    "}\n",
    "\n",
    "# Set of all downloading times in 'minutes' for each satellite (Assumed values)\n",
    "Z = {\n",
    "    \"s1\" : 1.8,\n",
    "    \"s2\" : 2.7\n",
    "}\n",
    "\n",
    "# Objective function weights\n",
    "W1 = 0.5"
   ]
  },
  {
   "cell_type": "markdown",
   "id": "eb9d2343",
   "metadata": {},
   "source": [
    "### Decision Variables"
   ]
  },
  {
   "cell_type": "code",
   "execution_count": null,
   "id": "7916c2b0",
   "metadata": {},
   "outputs": [],
   "source": [
    "assignment = LpVariable.dicts(\n",
    "    \"x\", \n",
    "    [(s, g, s+g) for s in S for g in G],\n",
    "    lowBound=0,\n",
    "    cat=\"Binary\"\n",
    ")\n",
    "\n",
    "processing_times = LpVariable.dicts(\n",
    "    \"p\", \n",
    "    [(s, g, s+g) for s in S for g in G],\n",
    "    lowBound=0,\n",
    "    cat=\"Continuous\"\n",
    ")\n",
    "\n",
    "satellite_setup_times = LpVariable.dicts(\n",
    "    \"Tau_s\", \n",
    "    [(s, g1, g2) for s in S for g1, g2 in zip(G, G[1:])],\n",
    "    lowBound=1,\n",
    "    cat=\"Continuous\"\n",
    ")\n",
    "\n",
    "ground_station_setup_times = LpVariable.dicts(\n",
    "    \"Tau_g\", \n",
    "    [(g, s1, s2) for g in G for s1, s2 in zip(S, S[1:])],\n",
    "    lowBound=1,\n",
    "    cat=\"Continuous\"\n",
    ")"
   ]
  },
  {
   "cell_type": "markdown",
   "id": "aefc3619",
   "metadata": {},
   "source": [
    "### Objective Function"
   ]
  },
  {
   "cell_type": "code",
   "execution_count": null,
   "id": "926bce43",
   "metadata": {},
   "outputs": [],
   "source": [
    "model = LpProblem(\"Maximize Processing Time\", LpMaximize)\n",
    "\n",
    "model += (\n",
    "    W1*(lpSum(processing_times)) + \n",
    "    (1-W1)*round(sum([Z[s] for s in S]), 1)\n",
    ")"
   ]
  },
  {
   "cell_type": "markdown",
   "id": "a9c6412e",
   "metadata": {},
   "source": [
    "### Constraints\n",
    "\n",
    "#### C1: Bounds for total download time for each satellite"
   ]
  },
  {
   "cell_type": "code",
   "execution_count": null,
   "id": "64b47633",
   "metadata": {},
   "outputs": [],
   "source": [
    "for s in S:\n",
    "    model+= Z[s] <= lpSum(\n",
    "        [processing_times[(s, g, s+g)] for g in G]\n",
    "    )"
   ]
  },
  {
   "cell_type": "markdown",
   "id": "b1f9932b",
   "metadata": {},
   "source": [
    "#### C2: Bounds for start and download processing times "
   ]
  },
  {
   "cell_type": "code",
   "execution_count": null,
   "id": "3042bfe5",
   "metadata": {},
   "outputs": [],
   "source": [
    "for i in assignment.keys():\n",
    "    model += processing_times[i] <= (\n",
    "        assignment[i] * (max(TW[i]) - min(TW[i]))\n",
    "    )"
   ]
  },
  {
   "cell_type": "markdown",
   "id": "56278a50",
   "metadata": {},
   "source": [
    "#### C3: A satellite interacts with only 1 ground station at a time"
   ]
  },
  {
   "cell_type": "code",
   "execution_count": null,
   "id": "b3ccd15f",
   "metadata": {},
   "outputs": [],
   "source": [
    "for s in S:\n",
    "    model += lpSum([assignment[(s, g, s+g)] for g in G]) == 1"
   ]
  },
  {
   "cell_type": "markdown",
   "id": "f54f0e33",
   "metadata": {},
   "source": [
    "#### C4: A ground station interacts with only 1 satellite at a time"
   ]
  },
  {
   "cell_type": "code",
   "execution_count": null,
   "id": "d774603b",
   "metadata": {},
   "outputs": [],
   "source": [
    "for g in G:\n",
    "    model += lpSum([assignment[(s, g, s+g)] for s in S]) == 1"
   ]
  },
  {
   "cell_type": "markdown",
   "id": "5ce1a6bc",
   "metadata": {},
   "source": [
    "#### C5: Bounds on satellite setup & processing time before the next schedule"
   ]
  },
  {
   "cell_type": "code",
   "execution_count": null,
   "id": "ea52e9bc",
   "metadata": {},
   "outputs": [],
   "source": [
    "for s in S:\n",
    "    for g in G:\n",
    "        kes = (s, g, s+g)\n",
    "        next_gs = kes[1][0] + str(int(kes[1][1])+1)\n",
    "        if next_gs in G:\n",
    "            kes_2 = kes[0], next_gs, kes[0]+next_gs\n",
    "            model += (\n",
    "                (\n",
    "                    min(TW[kes]) +\n",
    "                    processing_times[kes] +\n",
    "                    satellite_setup_times[kes[0], kes[1], next_gs]\n",
    "                ) <= min(TW[kes_2])\n",
    "            )"
   ]
  },
  {
   "cell_type": "markdown",
   "id": "b894db80",
   "metadata": {},
   "source": [
    "#### C6: Bounds on ground station setup & processing time before the next schedule"
   ]
  },
  {
   "cell_type": "code",
   "execution_count": null,
   "id": "45bbc0bb",
   "metadata": {},
   "outputs": [],
   "source": [
    "for g in G:\n",
    "    for s in S:\n",
    "        kes = (s, g, s+g)\n",
    "        next_sat = kes[0][0] + str(int(kes[0][1])+1)\n",
    "        \n",
    "        if next_sat in S:\n",
    "            kes_2 = next_sat, kes[1], next_sat+kes[1]\n",
    "            model += (\n",
    "                min(TW[kes]) +\n",
    "                processing_times[kes] +\n",
    "                ground_station_setup_times[kes[1], kes[0], next_sat]\n",
    "            ) <= max(TW[next_sat, kes[1], next_sat+kes[1]])"
   ]
  },
  {
   "cell_type": "markdown",
   "id": "c42fc2f4",
   "metadata": {},
   "source": [
    "### Wrap all steps in a function"
   ]
  },
  {
   "cell_type": "code",
   "execution_count": null,
   "id": "484ebb75",
   "metadata": {},
   "outputs": [],
   "source": [
    "def download_interval_schedule(\n",
    "    S: List[str], \n",
    "    G: List[str], \n",
    "    TW: Dict[Tuple[str, str, str], Tuple[int, int]], \n",
    "    Z: Dict[str, float], \n",
    "    W1:float\n",
    "):\n",
    "    \"\"\"\n",
    "    Optimized Schedule of satellite interaction\n",
    "    with ground stations within specified time windows\n",
    "    \n",
    "    Parameters:\n",
    "    - S (list): List of satellite indices\n",
    "    - G (list): List of ground station indices\n",
    "    - TW (dict): Dictionary of all satellite-ground station time windows\n",
    "    - Z (dict): Dictionary of all download times for each satellite\n",
    "    - W1 (float): Weight of objective function coefficients\n",
    "\n",
    "    Returns:\n",
    "    - LpProblem: A PuLP LpProblem instance representing the optimization model\n",
    "\n",
    "    \"\"\"\n",
    "    # 1. Decision variables\n",
    "    ## 1.1. Binary assignment variable if satellite 's' interacts with ground station 'g'\n",
    "    ## within time window TW\n",
    "    assignment = LpVariable.dicts(\n",
    "        \"x\",\n",
    "        [(s, g, s+g) for s in S for g in G],\n",
    "        lowBound=0,\n",
    "        cat=\"Binary\"\n",
    "    )\n",
    "    \n",
    "    ## 1.2. Processing time when satellite 's' interacts with ground station 'g'\n",
    "    ## within time window TW\n",
    "    processing_times = LpVariable.dicts(\n",
    "        \"p\",\n",
    "        [(s, g, s+g) for s in S for g in G],\n",
    "        lowBound=0,\n",
    "        cat=\"Continuous\"\n",
    "    )\n",
    "    \n",
    "    ## 1.3. Satellite setup times from one ground station to the next\n",
    "    satellite_setup_times = LpVariable.dicts(\n",
    "        \"Tau_s\", \n",
    "        [(s, g1, g2) for s in S for g1, g2 in zip(G, G[1:])],\n",
    "        lowBound=1,\n",
    "        cat=\"Continuous\"\n",
    "    )\n",
    "    \n",
    "    ## 1.4. Ground station setup times from one satellite to the next\n",
    "    ground_station_setup_times = LpVariable.dicts(\n",
    "        \"Tau_g\", \n",
    "        [(g, s1, s2) for g in G for s1, s2 in zip(S, S[1:])],\n",
    "        lowBound=1,\n",
    "        cat=\"Continuous\"\n",
    "    )\n",
    "    \n",
    "    # 2. Objective Function\n",
    "    model = LpProblem(\"Maximize Processing Time\", LpMaximize)\n",
    "    \n",
    "    model += (\n",
    "        W1*(lpSum(processing_times)) + \n",
    "        (1-W1)*round(sum([Z[s] for s in S]), 1)\n",
    "    )\n",
    "    \n",
    "    \n",
    "    # 3. Constraints\n",
    "    ## 3.1. Bounds for total download time for each satellite\n",
    "    for s in S:\n",
    "        model+= Z[s] <= lpSum(\n",
    "            [processing_times[(s, g, s+g)] for g in G]\n",
    "        )\n",
    "    \n",
    "    ## 3.2. Bounds for start and download processing times\n",
    "    for i in assignment.keys():\n",
    "        model += processing_times[i] <= (\n",
    "            assignment[i] * (max(TW[i]) - min(TW[i]))\n",
    "        )\n",
    "        \n",
    "    ## 3.3. A satellite interacts with only 1 ground station at a time\n",
    "    for s in S:\n",
    "        model += lpSum([assignment[(s, g, s+g)] for g in G]) == 1\n",
    "    \n",
    "    ## 3.4. A ground station interacts with only 1 satellite at a time\n",
    "    for g in G:\n",
    "        model += lpSum([assignment[(s, g, s+g)] for s in S]) == 1\n",
    "    \n",
    "    ## 3.5. Bounds on satellite setup & processing time before the next schedule\n",
    "    for s in S:\n",
    "        for g in G:\n",
    "            kes = (s, g, s+g)\n",
    "            next_gs = kes[1][0] + str(int(kes[1][1])+1)\n",
    "            if next_gs in G:\n",
    "                kes_2 = kes[0], next_gs, kes[0]+next_gs\n",
    "                model += (\n",
    "                    (\n",
    "                        min(TW[kes]) +\n",
    "                        processing_times[kes] +\n",
    "                        satellite_setup_times[\n",
    "                            kes[0], kes[1], next_gs\n",
    "                        ]\n",
    "                    ) <= min(TW[kes_2])\n",
    "                )\n",
    "                \n",
    "    ## 3.6. Bounds on ground station setup & processing time before the next schedule\n",
    "    for g in G:\n",
    "        for s in S:\n",
    "            kes = (s, g, s+g)\n",
    "            next_sat = kes[0][0] + str(int(kes[0][1])+1)\n",
    "\n",
    "            if next_sat in S:\n",
    "                kes_2 = next_sat, kes[1], next_sat+kes[1]\n",
    "                model += (\n",
    "                    (\n",
    "                        min(TW[kes]) +\n",
    "                        processing_times[kes] +\n",
    "                        ground_station_setup_times[\n",
    "                            kes[1], kes[0], next_sat\n",
    "                        ]\n",
    "                    ) <= min(TW[kes_2])\n",
    "                )\n",
    "                \n",
    "    \n",
    "    # 4. Solve model (Using default solver)\n",
    "    model.solve()\n",
    "            \n",
    "    return model"
   ]
  },
  {
   "cell_type": "markdown",
   "id": "aa76174e",
   "metadata": {},
   "source": [
    "### Function demonstration"
   ]
  },
  {
   "cell_type": "code",
   "execution_count": null,
   "id": "c1088622",
   "metadata": {},
   "outputs": [],
   "source": [
    "model = download_interval_schedule(\n",
    "    S=[\"s1\", \"s2\"], \n",
    "    \n",
    "    G=[\"g1\", \"g2\"], \n",
    "    \n",
    "    TW={\n",
    "        (\"s1\", \"g1\", \"s1g1\") : (1, 4),\n",
    "        (\"s1\", \"g2\", \"s1g2\") : (3, 5),\n",
    "        (\"s2\", \"g1\", \"s2g1\") : (2, 7),\n",
    "        (\"s2\", \"g2\", \"s2g2\") : (6, 8)\n",
    "    },\n",
    "    \n",
    "    Z={\n",
    "        \"s1\": 2.0, \n",
    "        \"s2\": 3.0\n",
    "    },\n",
    "    \n",
    "    W1=0.5\n",
    ")\n",
    "\n",
    "print(\"Model Status:\", \"\\n\",LpStatus[model.status], \"Solution\")\n",
    "\n",
    "print(\n",
    "    \"\\nMaximum task completion time (Processing + Download):\", \"\\n\", \n",
    "    value(model.objective),\n",
    "    \"minutes\"\n",
    ")\n",
    "\n",
    "print(\"\\nAssignment Variables:\")\n",
    "for v in model.variablesDict():\n",
    "    if \"x_\"in v and model.variablesDict()[v].varValue>0:\n",
    "        print(\" \", v, \"=\", model.variablesDict()[v].varValue)\n",
    "\n",
    "print(\"\\nProcessing Times:\")\n",
    "for v in model.variablesDict():\n",
    "    if \"p_\"in v and model.variablesDict()[v].varValue>0:\n",
    "        print(\n",
    "            \" \", v, \"=\", \n",
    "            model.variablesDict()[v].varValue,\n",
    "            \"minutes\"\n",
    "        )\n",
    "\n",
    "print(\"\\nSatellite-Ground Station Setup Times:\")\n",
    "for v in model.variablesDict():\n",
    "    if \"Tau_s\"in v and model.variablesDict()[v].varValue>0:\n",
    "        print(\n",
    "            \" \", v, \"=\", \n",
    "            model.variablesDict()[v].varValue,\n",
    "            \"minutes\"\n",
    "        )\n",
    "\n",
    "print(\"\\nGround Station-Satellite Setup Times:\")\n",
    "for v in model.variablesDict():\n",
    "    if \"Tau_g\"in v and model.variablesDict()[v].varValue>0:\n",
    "        print(\n",
    "            \" \", v, \"=\", \n",
    "            model.variablesDict()[v].varValue,\n",
    "            \"minutes\"\n",
    "        )\n",
    "        \n",
    "print(\"\\nProposed Optimal Schedule:\")\n",
    "for s in S:\n",
    "    for g in G:\n",
    "        if model.variablesDict()[\n",
    "                \"x_('{}',_'{}',_'{}')\".format(s, g, s+g)\n",
    "            ].varValue==1:\n",
    "            print(\n",
    "                \" Satellite '{}' to interact with Ground Station '{}'\".format(s, g),\n",
    "                \"within Time Window\",\n",
    "                TW[(s, g, s+g)],\n",
    "                \"with a processing time of {} minutes\".format(\n",
    "                    model.variablesDict()[\n",
    "                        \"p_('{}',_'{}',_'{}')\".format(s, g, s+g)\n",
    "                    ].varValue\n",
    "                )\n",
    "            )"
   ]
  },
  {
   "cell_type": "code",
   "execution_count": null,
   "id": "b463c17c",
   "metadata": {},
   "outputs": [],
   "source": []
  }
 ],
 "metadata": {
  "kernelspec": {
   "display_name": "Python 3 (ipykernel)",
   "language": "python",
   "name": "python3"
  },
  "language_info": {
   "codemirror_mode": {
    "name": "ipython",
    "version": 3
   },
   "file_extension": ".py",
   "mimetype": "text/x-python",
   "name": "python",
   "nbconvert_exporter": "python",
   "pygments_lexer": "ipython3",
   "version": "3.11.5"
  }
 },
 "nbformat": 4,
 "nbformat_minor": 5
}
